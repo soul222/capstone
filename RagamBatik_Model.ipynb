{
  "cells": [
    {
      "cell_type": "markdown",
      "metadata": {
        "id": "etBJpl_u5jsB"
      },
      "source": [
        "## **RagamBatik - Klasifikasi Gambar Batik**"
      ]
    },
    {
      "cell_type": "markdown",
      "metadata": {
        "id": "5m3mJvh25YIE"
      },
      "source": [
        "# Import Library"
      ]
    },
    {
      "cell_type": "code",
      "execution_count": null,
      "metadata": {
        "id": "OFkEvqYftuM_"
      },
      "outputs": [],
      "source": [
        "# Import library\n",
        "import os\n",
        "import random\n",
        "import shutil\n",
        "import datetime\n",
        "import numpy as np\n",
        "import matplotlib.pyplot as plt\n",
        "from tqdm import tqdm\n",
        "\n",
        "import tensorflow as tf\n",
        "from tensorflow.keras.preprocessing.image import ImageDataGenerator\n",
        "from tensorflow.keras.preprocessing import image\n",
        "from tensorflow.keras.applications import MobileNetV2\n",
        "from tensorflow.keras.models import Model\n",
        "from tensorflow.keras.layers import GlobalAveragePooling2D, Dense, Dropout, BatchNormalization\n",
        "from tensorflow.keras.optimizers import Adam\n",
        "from tensorflow.keras.callbacks import ModelCheckpoint, EarlyStopping, ReduceLROnPlateau\n",
        "from sklearn.utils.class_weight import compute_class_weight\n",
        "from sklearn.metrics import classification_report, confusion_matrix, ConfusionMatrixDisplay"
      ]
    },
    {
      "cell_type": "markdown",
      "metadata": {
        "id": "7cDaRn325VzT"
      },
      "source": [
        "# Data Loading"
      ]
    },
    {
      "cell_type": "code",
      "execution_count": null,
      "metadata": {
        "colab": {
          "base_uri": "https://localhost:8080/",
          "height": 163
        },
        "id": "liqAYTnytc59",
        "outputId": "493eb46a-f5d9-4b03-a67f-220a37dab48f"
      },
      "outputs": [],
      "source": [
        "from google.colab import files\n",
        "\n",
        "# Download Dataset\n",
        "files.upload()\n",
        "\n",
        "!pip install -q kaggle\n",
        "!mkdir -p ~/.kaggle\n",
        "!cp kaggle.json ~/.kaggle/\n",
        "!chmod 600 ~/.kaggle/kaggle.json\n",
        "\n",
        "!kaggle datasets download -d nadyams/indonesia-batik-dataset\n",
        "!unzip -q indonesia-batik-dataset.zip -d indonesia-batik-dataset"
      ]
    },
    {
      "cell_type": "markdown",
      "metadata": {
        "id": "UdDeVC244Tox"
      },
      "source": [
        "# Data Preprocessing"
      ]
    },
    {
      "cell_type": "markdown",
      "metadata": {
        "id": "wEIm119D2jm7"
      },
      "source": [
        "Kelas `Madura_Gentongan` dihapus dari dataset karena hanya memiliki **8 gambar**, jumlah yang terlalu sedikit dibandingkan kelas lain. Hal ini dilakukan untuk mencegah ketidakseimbangan ekstrem yang dapat memengaruhi kinerja model."
      ]
    },
    {
      "cell_type": "code",
      "execution_count": null,
      "metadata": {
        "colab": {
          "base_uri": "https://localhost:8080/"
        },
        "id": "ZYECcBaV9JKP",
        "outputId": "ff40f775-ece4-48ae-e830-b04220cbe47b"
      },
      "outputs": [
        {
          "name": "stdout",
          "output_type": "stream",
          "text": [
            "Kelas 'Madura_Gentongan' berhasil dihapus dari dataset.\n"
          ]
        }
      ],
      "source": [
        "# Hapus kelas yang tidak diinginkan\n",
        "original_dataset_dir = '/content/indonesia-batik-dataset'\n",
        "\n",
        "folder_to_remove = os.path.join(original_dataset_dir, 'Madura_Gentongan')\n",
        "if os.path.exists(folder_to_remove):\n",
        "    shutil.rmtree(folder_to_remove)\n",
        "    print(\"Kelas 'Madura_Gentongan' berhasil dihapus dari dataset.\")\n",
        "else:\n",
        "    print(\"Folder 'Madura_Gentongan' tidak ditemukan.\")"
      ]
    },
    {
      "cell_type": "code",
      "execution_count": null,
      "metadata": {
        "colab": {
          "base_uri": "https://localhost:8080/"
        },
        "id": "0Zewje7dtylQ",
        "outputId": "e92134ae-7494-43f5-8161-90241f488af4"
      },
      "outputs": [
        {
          "name": "stderr",
          "output_type": "stream",
          "text": [
            "Membagi dataset: 100%|██████████| 23/23 [00:00<00:00, 30.15it/s]"
          ]
        },
        {
          "name": "stdout",
          "output_type": "stream",
          "text": [
            "Dataset berhasil dipisah ke dalam train/val/test.\n"
          ]
        },
        {
          "name": "stderr",
          "output_type": "stream",
          "text": [
            "\n"
          ]
        }
      ],
      "source": [
        "# Split dataset ke train/val/test\n",
        "original_dataset_dir = '/content/indonesia-batik-dataset'\n",
        "base_dir = '/content/batik-dataset-split'\n",
        "split_ratio = (0.7, 0.15, 0.15)  # train, val, test\n",
        "\n",
        "for split in ['train', 'val', 'test']:\n",
        "    os.makedirs(os.path.join(base_dir, split), exist_ok=True)\n",
        "\n",
        "classes = [cls for cls in os.listdir(original_dataset_dir) if os.path.isdir(os.path.join(original_dataset_dir, cls))]\n",
        "\n",
        "for cls in tqdm(classes, desc=\"Membagi dataset\"):\n",
        "    src_path = os.path.join(original_dataset_dir, cls)\n",
        "    files = os.listdir(src_path)\n",
        "    random.shuffle(files)\n",
        "\n",
        "    n_total = len(files)\n",
        "    n_train = int(n_total * split_ratio[0])\n",
        "    n_val = int(n_total * split_ratio[1])\n",
        "\n",
        "    splits = {\n",
        "        'train': files[:n_train],\n",
        "        'val': files[n_train:n_train + n_val],\n",
        "        'test': files[n_train + n_val:]\n",
        "    }\n",
        "\n",
        "    for split in ['train', 'val', 'test']:\n",
        "        dst_dir = os.path.join(base_dir, split, cls)\n",
        "        os.makedirs(dst_dir, exist_ok=True)\n",
        "        for fname in splits[split]:\n",
        "            shutil.copy(os.path.join(src_path, fname), os.path.join(dst_dir, fname))\n",
        "\n",
        "print(\"Dataset berhasil dipisah ke dalam train/val/test.\")"
      ]
    },
    {
      "cell_type": "code",
      "execution_count": null,
      "metadata": {
        "colab": {
          "base_uri": "https://localhost:8080/"
        },
        "id": "lMLtrxgDu9AG",
        "outputId": "b538cde3-04f9-4af7-eab5-8e859db89666"
      },
      "outputs": [
        {
          "name": "stdout",
          "output_type": "stream",
          "text": [
            "Found 1532 images belonging to 23 classes.\n",
            "Found 324 images belonging to 23 classes.\n",
            "Found 340 images belonging to 23 classes.\n",
            "Class weights: {0: np.float64(2.37888198757764), 1: np.float64(2.2202898550724637), 2: np.float64(2.37888198757764), 3: np.float64(0.7836317135549872), 4: np.float64(1.9031055900621119), 5: np.float64(0.2552057304680993), 6: np.float64(2.37888198757764), 7: np.float64(0.6343685300207039), 8: np.float64(2.37888198757764), 9: np.float64(2.466988727858293), 10: np.float64(2.37888198757764), 11: np.float64(2.37888198757764), 12: np.float64(2.37888198757764), 13: np.float64(2.2202898550724637), 14: np.float64(2.37888198757764), 15: np.float64(0.9515527950310559), 16: np.float64(0.59472049689441), 17: np.float64(0.4269788182831661), 18: np.float64(2.37888198757764), 19: np.float64(2.37888198757764), 20: np.float64(2.37888198757764), 21: np.float64(0.2632754768860629), 22: np.float64(1.1101449275362318)}\n"
          ]
        }
      ],
      "source": [
        "# Parameter\n",
        "img_size = (224, 224)\n",
        "batch_size = 32\n",
        "\n",
        "# Augmentasi Gambar untuk train\n",
        "train_datagen = ImageDataGenerator(\n",
        "    rescale=1./255,\n",
        "    rotation_range=20,\n",
        "    width_shift_range=0.1,\n",
        "    height_shift_range=0.1,\n",
        "    zoom_range=0.15,\n",
        "    shear_range=0.15,\n",
        "    horizontal_flip=True,\n",
        "    brightness_range=[0.8, 1.2],\n",
        "    fill_mode='nearest'\n",
        ")\n",
        "\n",
        "val_test_datagen = ImageDataGenerator(rescale=1./255)\n",
        "\n",
        "# Data Generators\n",
        "train_generator = train_datagen.flow_from_directory(\n",
        "    os.path.join(base_dir, 'train'),\n",
        "    target_size=img_size,\n",
        "    batch_size=batch_size,\n",
        "    class_mode='categorical',\n",
        "    shuffle=True\n",
        ")\n",
        "\n",
        "val_generator = val_test_datagen.flow_from_directory(\n",
        "    os.path.join(base_dir, 'val'),\n",
        "    target_size=img_size,\n",
        "    batch_size=batch_size,\n",
        "    class_mode='categorical',\n",
        "    shuffle=False\n",
        ")\n",
        "\n",
        "test_generator = val_test_datagen.flow_from_directory(\n",
        "    os.path.join(base_dir, 'test'),\n",
        "    target_size=img_size,\n",
        "    batch_size=batch_size,\n",
        "    class_mode='categorical',\n",
        "    shuffle=False\n",
        ")\n",
        "\n",
        "# Hitung class_weight\n",
        "labels = train_generator.classes\n",
        "class_weights_array = compute_class_weight(\n",
        "    class_weight='balanced',\n",
        "    classes=np.unique(labels),\n",
        "    y=labels\n",
        ")\n",
        "class_weight_dict = dict(enumerate(class_weights_array))\n",
        "\n",
        "print(\"Class weights:\", class_weight_dict)"
      ]
    },
    {
      "cell_type": "markdown",
      "metadata": {
        "id": "0nE6t6px4dGI"
      },
      "source": [
        "# Modelling"
      ]
    },
    {
      "cell_type": "code",
      "execution_count": null,
      "metadata": {
        "colab": {
          "base_uri": "https://localhost:8080/",
          "height": 1000
        },
        "id": "C05dcS50vJzo",
        "outputId": "9cd5966c-e2a5-4af0-ec64-11729daabd0d"
      },
      "outputs": [],
      "source": [
        "# Build Model dengan Fine-tuning MobileNetV2\n",
        "base_model = MobileNetV2(include_top=False, input_shape=img_size + (3,), weights='imagenet')\n",
        "base_model.trainable = True  # unfreeze semua layer untuk fine-tuning\n",
        "\n",
        "# Custom head\n",
        "x = base_model.output\n",
        "x = GlobalAveragePooling2D()(x)\n",
        "x = BatchNormalization()(x)\n",
        "x = Dense(256, activation='relu', kernel_regularizer=tf.keras.regularizers.l2(0.001))(x)\n",
        "x = Dropout(0.5)(x)\n",
        "x = Dense(128, activation='relu', kernel_regularizer=tf.keras.regularizers.l2(0.001))(x)\n",
        "x = Dropout(0.3)(x)\n",
        "x = Dense(128, activation='relu', kernel_regularizer=tf.keras.regularizers.l2(0.001))(x)\n",
        "x = Dropout(0.4)(x)\n",
        "outputs = Dense(train_generator.num_classes, activation='softmax')(x)\n",
        "\n",
        "model = Model(inputs=base_model.input, outputs=outputs)\n",
        "\n",
        "model.compile(\n",
        "    optimizer=Adam(learning_rate=1e-4),\n",
        "    loss='categorical_crossentropy',\n",
        "    metrics=['accuracy']\n",
        ")\n",
        "\n",
        "model.summary()"
      ]
    },
    {
      "cell_type": "code",
      "execution_count": null,
      "metadata": {
        "id": "A_1AthGOvOUv"
      },
      "outputs": [],
      "source": [
        "# Callbacks\n",
        "checkpoint_path = 'best_batik_model.h5'\n",
        "callbacks = [\n",
        "    ModelCheckpoint(checkpoint_path, monitor='val_accuracy', save_best_only=True, mode='max', verbose=1),\n",
        "    EarlyStopping(monitor='val_loss', patience=10, restore_best_weights=True, verbose=1),\n",
        "    ReduceLROnPlateau(monitor='val_loss', factor=0.3, patience=4, verbose=1)\n",
        "]"
      ]
    },
    {
      "cell_type": "code",
      "execution_count": null,
      "metadata": {
        "colab": {
          "base_uri": "https://localhost:8080/"
        },
        "id": "ACQe7T6hvwoK",
        "outputId": "d2effa59-a3b1-4322-f1bc-be6278fb1d05"
      },
      "outputs": [],
      "source": [
        "# Training\n",
        "history = model.fit(\n",
        "    train_generator,\n",
        "    validation_data=val_generator,\n",
        "    epochs=70,\n",
        "    callbacks=callbacks,\n",
        "    class_weight=class_weight_dict\n",
        ")"
      ]
    },
    {
      "cell_type": "code",
      "execution_count": null,
      "metadata": {
        "colab": {
          "base_uri": "https://localhost:8080/"
        },
        "id": "5X3NEZBB2gSz",
        "outputId": "e5aceb24-9db8-4bfa-fca6-c83f2d49863f"
      },
      "outputs": [],
      "source": [
        "# Evaluasi di test set\n",
        "model.load_weights(checkpoint_path)\n",
        "test_loss, test_acc = model.evaluate(test_generator)\n",
        "print(f\"Akurasi di test set: {test_acc:.4f}\")"
      ]
    },
    {
      "cell_type": "code",
      "execution_count": null,
      "metadata": {
        "colab": {
          "base_uri": "https://localhost:8080/"
        },
        "id": "89Y6qu193c42",
        "outputId": "d46dacd2-1dcf-4644-8c7d-cf1d2899becb"
      },
      "outputs": [],
      "source": [
        "# Load Model dari Checkpoint Terbaik\n",
        "model.load_weights('best_batik_model.h5')\n",
        "print(\"Model terbaik berhasil dimuat dari checkpoint.\")\n",
        "\n",
        "# Compile Ulang Model dengan Learning Rate Kecil\n",
        "model.compile(\n",
        "    optimizer=Adam(learning_rate=1e-5),  # lebih kecil agar fine-tuning halus\n",
        "    loss='categorical_crossentropy',\n",
        "    metrics=['accuracy']\n",
        ")\n",
        "print(\"Model dikompilasi ulang dengan learning rate lebih kecil (1e-5).\")"
      ]
    },
    {
      "cell_type": "code",
      "execution_count": null,
      "metadata": {
        "colab": {
          "base_uri": "https://localhost:8080/"
        },
        "id": "upYb3AnB3gPm",
        "outputId": "56e2aee0-4fb7-4180-dac3-eb71ee244104"
      },
      "outputs": [],
      "source": [
        "# Fine-Tuning Lanjutan\n",
        "fine_tune_epochs = 30\n",
        "initial_epoch = 70\n",
        "\n",
        "history_finetune = model.fit(\n",
        "    train_generator,\n",
        "    validation_data=val_generator,\n",
        "    epochs=initial_epoch + fine_tune_epochs,\n",
        "    initial_epoch=initial_epoch,\n",
        "    callbacks=callbacks,\n",
        "    class_weight=class_weight_dict\n",
        ")\n",
        "\n",
        "print(\"Fine-tuning lanjutan selesai.\")"
      ]
    },
    {
      "cell_type": "markdown",
      "metadata": {
        "id": "GBYOVch14pIZ"
      },
      "source": [
        "# Evaluation"
      ]
    },
    {
      "cell_type": "code",
      "execution_count": null,
      "metadata": {
        "colab": {
          "base_uri": "https://localhost:8080/",
          "height": 326
        },
        "id": "11ms3MrX7AuE",
        "outputId": "75002f55-1559-4a17-a321-e3ae207befd2"
      },
      "outputs": [],
      "source": [
        "# Fungsi untuk Gabung Plot Training Awal + Fine-Tuning\n",
        "def plot_training(history1, history2=None):\n",
        "    acc = history1.history['accuracy']\n",
        "    val_acc = history1.history['val_accuracy']\n",
        "    loss = history1.history['loss']\n",
        "    val_loss = history1.history['val_loss']\n",
        "\n",
        "    if history2:\n",
        "        acc += history2.history['accuracy']\n",
        "        val_acc += history2.history['val_accuracy']\n",
        "        loss += history2.history['loss']\n",
        "        val_loss += history2.history['val_loss']\n",
        "\n",
        "    epochs = range(1, len(acc) + 1)\n",
        "\n",
        "    plt.figure(figsize=(14, 5))\n",
        "    plt.subplot(1, 2, 1)\n",
        "    plt.plot(epochs, acc, 'b', label='Training acc')\n",
        "    plt.plot(epochs, val_acc, 'r', label='Validation acc')\n",
        "    plt.title('Training and Validation Accuracy')\n",
        "    plt.xlabel('Epoch')\n",
        "    plt.ylabel('Accuracy')\n",
        "    plt.legend()\n",
        "\n",
        "    plt.subplot(1, 2, 2)\n",
        "    plt.plot(epochs, loss, 'b', label='Training loss')\n",
        "    plt.plot(epochs, val_loss, 'r', label='Validation loss')\n",
        "    plt.title('Training and Validation Loss')\n",
        "    plt.xlabel('Epoch')\n",
        "    plt.ylabel('Loss')\n",
        "    plt.legend()\n",
        "\n",
        "    plt.show()\n",
        "\n",
        "plot_training(history, history_finetune)"
      ]
    },
    {
      "cell_type": "code",
      "execution_count": null,
      "metadata": {
        "colab": {
          "base_uri": "https://localhost:8080/"
        },
        "id": "QN_G5EGgMOj6",
        "outputId": "8ce843b9-96ac-4f15-8ab5-37ba08002c91"
      },
      "outputs": [],
      "source": [
        "# Evaluasi di test set\n",
        "test_loss, test_acc = model.evaluate(test_generator)\n",
        "print(f\"Akurasi di test set: {test_acc:.4f}\")\n",
        "print(f\"Loss di test set: {test_loss:.4f}\")"
      ]
    },
    {
      "cell_type": "code",
      "execution_count": null,
      "metadata": {
        "colab": {
          "base_uri": "https://localhost:8080/",
          "height": 720
        },
        "id": "io3yr831MQaj",
        "outputId": "00dfd0cb-b2d5-4745-cee5-d94035f08978"
      },
      "outputs": [],
      "source": [
        "# Confusion Matrix\n",
        "\n",
        "# Prediksi kelas\n",
        "Y_pred = model.predict(test_generator)\n",
        "y_pred = np.argmax(Y_pred, axis=1)\n",
        "y_true = test_generator.classes\n",
        "\n",
        "# Confusion matrix\n",
        "cm = confusion_matrix(y_true, y_pred)\n",
        "labels = list(test_generator.class_indices.keys())\n",
        "\n",
        "plt.figure(figsize=(14, 10))\n",
        "disp = ConfusionMatrixDisplay(confusion_matrix=cm, display_labels=labels)\n",
        "disp.plot(xticks_rotation=90, cmap='Blues', values_format='d')\n",
        "plt.title(\"Confusion Matrix - Test Set\")\n",
        "plt.show()"
      ]
    },
    {
      "cell_type": "markdown",
      "metadata": {
        "id": "bTUWPlhb5Bx_"
      },
      "source": [
        "# Inference"
      ]
    },
    {
      "cell_type": "code",
      "execution_count": null,
      "metadata": {
        "colab": {
          "base_uri": "https://localhost:8080/",
          "height": 446
        },
        "id": "t5XZN0yaKSUa",
        "outputId": "0e50e889-5759-44e0-9523-e16570b74269"
      },
      "outputs": [],
      "source": [
        "# Fungsi prediksi\n",
        "def predict_image(img_path, model, class_indices, target_size=(224, 224)):\n",
        "    # Load & preprocess image\n",
        "    if not os.path.exists(img_path):\n",
        "        print(f\"Error: File not found at {img_path}\")\n",
        "        return None, None\n",
        "\n",
        "    img = image.load_img(img_path, target_size=target_size)\n",
        "    img_array = image.img_to_array(img) / 255.0\n",
        "    img_array = np.expand_dims(img_array, axis=0)\n",
        "\n",
        "    # Prediksi\n",
        "    prediction = model.predict(img_array, verbose=0)\n",
        "    predicted_class = np.argmax(prediction[0])\n",
        "    class_labels = list(class_indices.keys())\n",
        "    confidence = prediction[0][predicted_class]\n",
        "\n",
        "    plt.imshow(img)\n",
        "    plt.axis('off')\n",
        "    plt.title(f\"Prediksi: {class_labels[predicted_class]} ({confidence:.2%})\")\n",
        "    plt.show()\n",
        "\n",
        "    return class_labels[predicted_class], confidence\n",
        "\n",
        "# Path Image\n",
        "img_path = '/content/indonesia-batik-dataset/DKI_Jakarta_Ondel_Ondel/Ondel (26).jpg'\n",
        "\n",
        "predict_image(img_path, model, test_generator.class_indices)"
      ]
    },
    {
      "cell_type": "code",
      "execution_count": null,
      "metadata": {
        "colab": {
          "base_uri": "https://localhost:8080/"
        },
        "id": "rn--59Gee2wh",
        "outputId": "c2d758fb-130d-436d-9938-92aa615a84a8"
      },
      "outputs": [
        {
          "name": "stdout",
          "output_type": "stream",
          "text": [
            "\u001b[1m11/11\u001b[0m \u001b[32m━━━━━━━━━━━━━━━━━━━━\u001b[0m\u001b[37m\u001b[0m \u001b[1m2s\u001b[0m 141ms/step\n",
            "\n",
            "Rata-rata Confidence Prediksi yang Benar per Kelas:\n",
            "- Aceh_Pintu_Aceh: 99.91%\n",
            "- Bali_Barong: 100.00%\n",
            "- Bali_Merak: 90.61%\n",
            "- Betawi_Tumpal: 100.00%\n",
            "- DKI_Jakarta_Ondel_Ondel: 99.99%\n",
            "- Jawa_Barat_Megamendung: 98.95%\n",
            "- Jawa_Timur_Pring: 99.56%\n",
            "- Kalimantan_Barat_Insang: 98.36%\n",
            "- Kalimantan_Dayak: 100.00%\n",
            "- Lampung_Gajah: 96.46%\n",
            "- Maluku_Pala: 94.67%\n",
            "- NTB_Lumbung: 99.97%\n",
            "- Papua_Asmat: 99.99%\n",
            "- Papua_Cendrawasih: 99.46%\n",
            "- Papua_Tifa: 98.79%\n",
            "- Solo_Parang: 92.10%\n",
            "- Solo_Sidoluhur: 96.37%\n",
            "- Solo_Truntum: 95.49%\n",
            "- Sulawesi_Selatan_Lontara: 77.88%\n",
            "- Sumatera_Barat_Rumah_Minang: 99.96%\n",
            "- Sumatera_Utara_Boraspati: 93.15%\n",
            "- Yogyakarta_Kawung: 97.22%\n",
            "- Yogyakarta_Parang: 85.62%\n",
            "\n",
            "Rata-rata Confidence Keseluruhan (Semua Prediksi): 94.25%\n",
            "Rata-rata Confidence Hanya untuk Prediksi yang Benar: 96.80%\n"
          ]
        }
      ],
      "source": [
        "# Mengambil prediksi dari model\n",
        "Y_pred_all = model.predict(test_generator, verbose=1)\n",
        "y_pred_all = np.argmax(Y_pred_all, axis=1)\n",
        "confidences_all = np.max(Y_pred_all, axis=1)\n",
        "y_true_all = test_generator.classes\n",
        "class_labels = list(test_generator.class_indices.keys())\n",
        "\n",
        "# Mengumpulkan confidence untuk setiap kelas yang diprediksi dengan benar\n",
        "average_confidences = {}\n",
        "\n",
        "for i in range(len(y_true_all)):\n",
        "    true_idx = y_true_all[i]\n",
        "    pred_idx = y_pred_all[i]\n",
        "    confidence = confidences_all[i]\n",
        "\n",
        "    if true_idx == pred_idx:\n",
        "        class_name = class_labels[true_idx]\n",
        "        if class_name not in average_confidences:\n",
        "            average_confidences[class_name] = []\n",
        "        average_confidences[class_name].append(confidence)\n",
        "\n",
        "# Menampilkan rata-rata confidence per kelas (untuk prediksi yang benar)\n",
        "print(\"\\nRata-rata Confidence Prediksi yang Benar per Kelas:\")\n",
        "for class_name in class_labels:\n",
        "    confidences = average_confidences.get(class_name, [])\n",
        "    if confidences:\n",
        "        avg_conf = np.mean(confidences)\n",
        "        print(f\"- {class_name}: {avg_conf:.2%}\")\n",
        "    else:\n",
        "        print(f\"- {class_name}: (Tidak ada prediksi yang benar)\")\n",
        "\n",
        "# Rata-rata confidence keseluruhan (semua prediksi)\n",
        "average_confidence_overall = np.mean(confidences_all)\n",
        "print(f\"\\nRata-rata Confidence Keseluruhan (Semua Prediksi): {average_confidence_overall:.2%}\")\n",
        "\n",
        "# Rata-rata confidence hanya untuk prediksi yang benar\n",
        "correct_indices = np.where(y_true_all == y_pred_all)[0]\n",
        "if len(correct_indices) > 0:\n",
        "    average_confidence_correct = np.mean(confidences_all[correct_indices])\n",
        "    print(f\"Rata-rata Confidence Hanya untuk Prediksi yang Benar: {average_confidence_correct:.2%}\")\n",
        "else:\n",
        "    print(\"Tidak ada prediksi yang benar di test set.\")"
      ]
    },
    {
      "cell_type": "markdown",
      "metadata": {
        "id": "UgrQY40r5Grn"
      },
      "source": [
        "# Save Model"
      ]
    },
    {
      "cell_type": "code",
      "execution_count": null,
      "metadata": {
        "colab": {
          "base_uri": "https://localhost:8080/"
        },
        "id": "kAAnyYgOgjQn",
        "outputId": "56e67e1d-0804-4a8d-fdeb-4e4515fa9051"
      },
      "outputs": [],
      "source": [
        "!pip install tensorflowjs"
      ]
    },
    {
      "cell_type": "code",
      "execution_count": null,
      "metadata": {
        "colab": {
          "base_uri": "https://localhost:8080/",
          "height": 334
        },
        "id": "fOK0UrnrhBZ5",
        "outputId": "0d98ff6f-dfe4-4a8e-bfea-7dfda1651c63"
      },
      "outputs": [
        {
          "data": {
            "text/html": [
              "\n",
              "<p style=\"margin:0px;\">🌲 Try <a href=\"https://ydf.readthedocs.io/en/latest/\" target=\"_blank\">YDF</a>, the successor of\n",
              "    <a href=\"https://www.tensorflow.org/decision_forests\" target=\"_blank\">TensorFlow\n",
              "        Decision Forests</a> using the same algorithms but with more features and faster\n",
              "    training!\n",
              "</p>\n",
              "<div style=\"display: flex; flex-wrap: wrap; margin:5px;max-width: 880px;\">\n",
              "    <div style=\"flex: 1; border-radius: 10px; background-color: F0F0F0; padding: 5px;\">\n",
              "        <p\n",
              "            style=\"font-weight: bold; margin:0px;text-align: center;border-bottom: 1px solid #C0C0C0;margin-bottom: 4px;\">\n",
              "            Old code</p>\n",
              "        <pre style=\"overflow-wrap: anywhere; overflow: auto; margin:0px;font-size: 9pt;\">\n",
              "import tensorflow_decision_forests as tfdf\n",
              "\n",
              "tf_ds = tfdf.keras.pd_dataframe_to_tf_dataset(ds, label=\"l\")\n",
              "model = tfdf.keras.RandomForestModel(label=\"l\")\n",
              "model.fit(tf_ds)\n",
              "</pre>\n",
              "    </div>\n",
              "    <div style=\"width: 5px;\"></div>\n",
              "    <div style=\"flex: 1; border-radius: 10px; background-color: F0F0F0; padding: 5px;\">\n",
              "        <p\n",
              "            style=\"font-weight: bold; margin:0px;text-align: center;border-bottom: 1px solid #C0C0C0;margin-bottom: 4px;\">\n",
              "            New code</p>\n",
              "        <pre style=\"overflow-wrap: anywhere; overflow: auto; margin:0px;font-size: 9pt;\">\n",
              "import ydf\n",
              "\n",
              "model = ydf.RandomForestLearner(label=\"l\").train(ds)\n",
              "</pre>\n",
              "    </div>\n",
              "</div>\n",
              "<p style=\"margin:0px;font-size: 9pt;\">(Learn more in the <a\n",
              "        href=\"https://ydf.readthedocs.io/en/latest/tutorial/migrating_to_ydf/\" target=\"_blank\">migration\n",
              "        guide</a>)</p>\n"
            ],
            "text/plain": [
              "<IPython.core.display.HTML object>"
            ]
          },
          "metadata": {},
          "output_type": "display_data"
        },
        {
          "name": "stderr",
          "output_type": "stream",
          "text": [
            "WARNING:absl:You are saving your model as an HDF5 file via `model.save()` or `keras.saving.save_model(model)`. This file format is considered legacy. We recommend using instead the native Keras format, e.g. `model.save('my_model.keras')` or `keras.saving.save_model(model, 'my_model.keras')`. \n"
          ]
        },
        {
          "name": "stdout",
          "output_type": "stream",
          "text": [
            "failed to lookup keras version from the file,\n",
            "    this is likely a weight only file\n"
          ]
        }
      ],
      "source": [
        "import tensorflowjs as tfjs\n",
        "\n",
        "# Mengonversi model ke format TensorFlow.js\n",
        "tfjs.converters.save_keras_model(model, 'model_tfjs')"
      ]
    },
    {
      "cell_type": "code",
      "execution_count": null,
      "metadata": {
        "colab": {
          "base_uri": "https://localhost:8080/",
          "height": 17
        },
        "id": "rYcTteF-hW39",
        "outputId": "e00aebcd-5286-44ca-d1d4-825d6e7fe2f3"
      },
      "outputs": [
        {
          "data": {
            "application/javascript": "\n    async function download(id, filename, size) {\n      if (!google.colab.kernel.accessAllowed) {\n        return;\n      }\n      const div = document.createElement('div');\n      const label = document.createElement('label');\n      label.textContent = `Downloading \"${filename}\": `;\n      div.appendChild(label);\n      const progress = document.createElement('progress');\n      progress.max = size;\n      div.appendChild(progress);\n      document.body.appendChild(div);\n\n      const buffers = [];\n      let downloaded = 0;\n\n      const channel = await google.colab.kernel.comms.open(id);\n      // Send a message to notify the kernel that we're ready.\n      channel.send({})\n\n      for await (const message of channel.messages) {\n        // Send a message to notify the kernel that we're ready.\n        channel.send({})\n        if (message.buffers) {\n          for (const buffer of message.buffers) {\n            buffers.push(buffer);\n            downloaded += buffer.byteLength;\n            progress.value = downloaded;\n          }\n        }\n      }\n      const blob = new Blob(buffers, {type: 'application/binary'});\n      const a = document.createElement('a');\n      a.href = window.URL.createObjectURL(blob);\n      a.download = filename;\n      div.appendChild(a);\n      a.click();\n      div.remove();\n    }\n  ",
            "text/plain": [
              "<IPython.core.display.Javascript object>"
            ]
          },
          "metadata": {},
          "output_type": "display_data"
        },
        {
          "data": {
            "application/javascript": "download(\"download_f35efce2-fbda-4b8e-81a3-81c5d16163ad\", \"model_tfjs.zip\", 9827691)",
            "text/plain": [
              "<IPython.core.display.Javascript object>"
            ]
          },
          "metadata": {},
          "output_type": "display_data"
        }
      ],
      "source": [
        "import shutil\n",
        "from google.colab import files\n",
        "\n",
        "shutil.make_archive('model_tfjs', 'zip', 'model_tfjs')\n",
        "\n",
        "files.download('model_tfjs.zip')"
      ]
    }
  ],
  "metadata": {
    "accelerator": "GPU",
    "colab": {
      "gpuType": "T4",
      "provenance": []
    },
    "kernelspec": {
      "display_name": "Python 3",
      "name": "python3"
    },
    "language_info": {
      "name": "python"
    }
  },
  "nbformat": 4,
  "nbformat_minor": 0
}
